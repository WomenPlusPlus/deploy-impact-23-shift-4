{
 "cells": [
  {
   "cell_type": "code",
   "execution_count": 4,
   "metadata": {},
   "outputs": [
    {
     "name": "stdout",
     "output_type": "stream",
     "text": [
      "[{'field': 'UX/UI', 'id': '324a7e4c-f890-496d-98bc-93115fbc408e', 'name': 'Figma'}, {'field': 'Hard Skill', 'id': 'KS126XS6CQCFGC3NG79X', 'name': '.NET Assemblies'}, {'field': 'Hard Skill', 'id': 'ES50D03AC9CFC1A0BC93', 'name': '.NET Development'}, {'field': 'Hard Skill', 'id': 'KS1200B62W5ZF38RJ7TD', 'name': '.NET Framework'}, {'field': 'Hard Skill', 'id': 'KS126XW78QJCF4TRV2X7', 'name': '.NET Framework 1'}, {'field': 'Hard Skill', 'id': 'KS126XY68BNKXSBSLPYS', 'name': '.NET Framework 3'}, {'field': 'Hard Skill', 'id': 'KS126XR63RKYVCKYDNBN', 'name': '.NET Framework 4'}, {'field': 'Hard Skill', 'id': 'ES1A2175859F80D25163', 'name': '.NET MAUI (Multi-Platform App UI)'}, {'field': 'Hard Skill', 'id': 'KS126Y166NXP5X1SLV6V', 'name': '.NET Reflector'}, {'field': 'Hard Skill', 'id': 'KS126Y16DLZ0N5THPLDM', 'name': '.NET Remoting'}]\n"
     ]
    }
   ],
   "source": [
    "import string\n",
    "import requests\n",
    "from sklearn.feature_extraction.text import TfidfVectorizer\n",
    "import pickle\n",
    "\n",
    "skills = requests.get('http://localhost:5001/api/get_all_skills')\n",
    "skills_json = skills.json()['skills']\n",
    "print(skills_json[0:10])"
   ]
  },
  {
   "cell_type": "code",
   "execution_count": 5,
   "metadata": {},
   "outputs": [],
   "source": [
    "skills_response = requests.get('http://localhost:5001/api/get_all_skills')\n",
    "skills_json = skills_response.json()['skills']"
   ]
  },
  {
   "cell_type": "code",
   "execution_count": 6,
   "metadata": {},
   "outputs": [
    {
     "data": {
      "text/plain": [
       "['Linux Virtual Server', 'SQL (Programming Language)', 'TCP/IP']"
      ]
     },
     "execution_count": 6,
     "metadata": {},
     "output_type": "execute_result"
    }
   ],
   "source": [
    "ids = ['KS4417N61DB04000S10C', 'KS440W865GC4VRBW6LJP', 'KS441TQ5ZT1XSYNT0YY2']\n",
    "[skill['name'] for skill in skills_json if skill['id'] in ids]"
   ]
  },
  {
   "cell_type": "code",
   "execution_count": 7,
   "metadata": {},
   "outputs": [
    {
     "ename": "SyntaxError",
     "evalue": "expected ':' (497435151.py, line 2)",
     "output_type": "error",
     "traceback": [
      "\u001b[0;36m  Cell \u001b[0;32mIn[7], line 2\u001b[0;36m\u001b[0m\n\u001b[0;31m    if skill['id'] == id\u001b[0m\n\u001b[0m                        ^\u001b[0m\n\u001b[0;31mSyntaxError\u001b[0m\u001b[0;31m:\u001b[0m expected ':'\n"
     ]
    }
   ],
   "source": [
    "for skill in skills_json: \n",
    "    if skill['id'] == id"
   ]
  },
  {
   "cell_type": "code",
   "execution_count": null,
   "metadata": {},
   "outputs": [
    {
     "data": {
      "text/plain": [
       "{'company_id': '8bb548ef-e567-4c70-acfa-8a794d7bc86c',\n",
       " 'title': 'Network Administrator',\n",
       " 'description': 'NetCall Communications\\nJOB TITLE:  Network Administrator\\nPOSITION LOCATION: Yerevan, Armenia\\nJOB RESPONSIBILITIES:  \\n- Network monitoring and administration;\\n- Database administration (MS SQL 2000).\\nREQUIRED QUALIFICATIONS:  \\n- Excellent knowledge of Windows 2000 Server, Linux platform, Networking\\nTCP/ IP technologies, MS SQL 2000 Server;\\n- At least 2 years of experience in the proper field;\\n- Good knowledge of English.\\nAPPLICATION PROCEDURES:  Successful candidates should submit CV and 1-2\\nrelevant Recommendation Letters (from previous employers) to:job@....\\nPlease clearly mention in your application letter that you learned of\\nthis job opportunity through Career Center and mention the URL of its\\nwebsite - www.careercenter.am, Thanks.\\nAPPLICATION DEADLINE:   28 February 2004, 18:00\\n----------------------------------\\nTo place a free posting for job or other career related opportunities in\\nyour organization at careercenter.am website, e-mail us atmailbox@...',\n",
       " 'skills': [{'skill': 'Linux Virtual Server',\n",
       "   'skill_id': 'KS441TQ5ZT1XSYNT0YY2',\n",
       "   'skill_level': 1},\n",
       "  {'skill': 'SQL (Programming Language)',\n",
       "   'skill_id': 'KS440W865GC4VRBW6LJP',\n",
       "   'skill_level': 1},\n",
       "  {'skill': 'TCP/IP', 'skill_id': 'KS4417N61DB04000S10C', 'skill_level': 1}]}"
      ]
     },
     "execution_count": 1,
     "metadata": {},
     "output_type": "execute_result"
    }
   ],
   "source": [
    "{\n",
    "    \"company_id\": \"8bb548ef-e567-4c70-acfa-8a794d7bc86c\",\n",
    "    \"title\": \"Network Administrator\",\n",
    "    \"description\": \"NetCall Communications\\nJOB TITLE:  Network Administrator\\nPOSITION LOCATION: Yerevan, Armenia\\nJOB RESPONSIBILITIES:  \\n- Network monitoring and administration;\\n- Database administration (MS SQL 2000).\\nREQUIRED QUALIFICATIONS:  \\n- Excellent knowledge of Windows 2000 Server, Linux platform, Networking\\nTCP/ IP technologies, MS SQL 2000 Server;\\n- At least 2 years of experience in the proper field;\\n- Good knowledge of English.\\nAPPLICATION PROCEDURES:  Successful candidates should submit CV and 1-2\\nrelevant Recommendation Letters (from previous employers) to:job@....\\nPlease clearly mention in your application letter that you learned of\\nthis job opportunity through Career Center and mention the URL of its\\nwebsite - www.careercenter.am, Thanks.\\nAPPLICATION DEADLINE:   28 February 2004, 18:00\\n----------------------------------\\nTo place a free posting for job or other career related opportunities in\\nyour organization at careercenter.am website, e-mail us atmailbox@...\",\n",
    "    \"skills\": [{'skill': 'Linux Virtual Server', 'skill_id': 'KS441TQ5ZT1XSYNT0YY2', 'skill_level': 1}, {'skill': 'SQL (Programming Language)', 'skill_id': 'KS440W865GC4VRBW6LJP', 'skill_level': 1}, {'skill': 'TCP/IP', 'skill_id': 'KS4417N61DB04000S10C', 'skill_level': 1}]\n",
    "}"
   ]
  },
  {
   "cell_type": "code",
   "execution_count": null,
   "metadata": {},
   "outputs": [],
   "source": [
    "\n",
    "import requests\n",
    "job_json = { 'job_id': '61a35540-a74d-4f4f-8d8f-15276fea35a3' }\n",
    "\n",
    "job = requests.post('http://localhost:5001/api/get_job_by_id', json=job_json)"
   ]
  },
  {
   "cell_type": "code",
   "execution_count": null,
   "metadata": {},
   "outputs": [],
   "source": [
    "candidates_response = requests.get('http://localhost:5001/api/get_all_candidates')\n",
    "candidates = candidates_response.json()['candidates']"
   ]
  },
  {
   "cell_type": "code",
   "execution_count": null,
   "metadata": {},
   "outputs": [],
   "source": [
    "job = requests.post('http://localhost:5001/api/get_job_by_id', json=job_json)\n"
   ]
  },
  {
   "cell_type": "code",
   "execution_count": null,
   "metadata": {},
   "outputs": [
    {
     "data": {
      "text/plain": [
       "'Hard Skill'"
      ]
     },
     "execution_count": 35,
     "metadata": {},
     "output_type": "execute_result"
    }
   ],
   "source": [
    "job.json()['jobs']['skills'][1]\n",
    "\n",
    "a = job.json()['jobs']['skills'][1]\n",
    "get_skill_type(job.json()['jobs']['skills'][1])"
   ]
  },
  {
   "cell_type": "code",
   "execution_count": null,
   "metadata": {},
   "outputs": [],
   "source": [
    "\n",
    "import requests\n",
    "job_json = { 'job_id': 'c30b3413-d0cb-4a3b-b28a-a3db23a7abeb' }\n",
    "\n",
    "job = requests.post('http://localhost:5001/api/get_job_by_id', json=job_json)"
   ]
  },
  {
   "cell_type": "code",
   "execution_count": null,
   "metadata": {},
   "outputs": [
    {
     "data": {
      "text/plain": [
       "['KS4417N61DB04000S10C', 'KS440W865GC4VRBW6LJP', 'KS441TQ5ZT1XSYNT0YY2']"
      ]
     },
     "execution_count": 5,
     "metadata": {},
     "output_type": "execute_result"
    }
   ],
   "source": [
    "job.json()['jobs']['skills']['hard_skills']"
   ]
  },
  {
   "cell_type": "code",
   "execution_count": null,
   "metadata": {},
   "outputs": [
    {
     "data": {
      "text/plain": [
       "'Hard Skill'"
      ]
     },
     "execution_count": 32,
     "metadata": {},
     "output_type": "execute_result"
    }
   ],
   "source": [
    "skill_json = { \"skill_id\":a }\n",
    "skill = requests.post('http://localhost:5001/api/get_skill_by_id', json=skill_json)\n",
    "skill.json()['skill']['field']"
   ]
  },
  {
   "cell_type": "code",
   "execution_count": null,
   "metadata": {},
   "outputs": [],
   "source": [
    "candidates_response = requests.get('http://localhost:5001/api/get_all_candidates')\n",
    "candidates = candidates_response.json()['candidates']"
   ]
  },
  {
   "cell_type": "code",
   "execution_count": null,
   "metadata": {},
   "outputs": [],
   "source": [
    "import dill\n",
    "from sklearn.metrics.pairwise import cosine_similarity\n",
    "import requests\n",
    "import numpy as np\n",
    "with open('vectorizer.pkl', 'rb') as file:\n",
    "    vectorizer = dill.load(file)"
   ]
  },
  {
   "cell_type": "code",
   "execution_count": null,
   "metadata": {},
   "outputs": [],
   "source": [
    "def score(job_skills, candidate_skills_dict):\n",
    "  job_skills = ['_'.join(skill.lower().split(\" \")) for skill in job_skills]\n",
    "  job_skills_vector = vectorizer.transform(job_skills)\n",
    "  candidate_skills, candidate_levels =  zip(*candidate_skills_dict.items())\n",
    "  candidate_levels = [[level] for level in candidate_levels]\n",
    "  candidate_skills = ['_'.join(skill.lower().split(\" \")) for skill in candidate_skills]\n",
    "  candidate_skills_vector = vectorizer.transform(candidate_skills)\n",
    "  total_score = 3*len(job_skills)\n",
    "  similarity_matrix = cosine_similarity(candidate_skills_vector, job_skills_vector)\n",
    "  similarity_matrix_resolved = (similarity_matrix > 0.7).astype(\"int32\")\n",
    "  candidate_score = np.multiply(similarity_matrix_resolved, candidate_levels).sum()\n",
    "  percent_score = candidate_score/total_score * 100\n",
    "  return round(percent_score, 1)"
   ]
  },
  {
   "cell_type": "code",
   "execution_count": null,
   "metadata": {},
   "outputs": [],
   "source": [
    "def get_skill_info(skill_id):\n",
    "    skill_json = { \"skill_id\": skill_id }\n",
    "    skill = requests.post('http://localhost:5001/api/get_skill_by_id', json=skill_json)\n",
    "    # skill_type = skill.json()['skill']['field']\n",
    "    skill_name = skill.json()['skill']['name']\n",
    "    return skill_name #, skill_type"
   ]
  },
  {
   "cell_type": "code",
   "execution_count": null,
   "metadata": {},
   "outputs": [
    {
     "data": {
      "text/plain": [
       "0.0"
      ]
     },
     "execution_count": 20,
     "metadata": {},
     "output_type": "execute_result"
    }
   ],
   "source": [
    "score(['product management'], {'product management':3})"
   ]
  },
  {
   "cell_type": "code",
   "execution_count": null,
   "metadata": {},
   "outputs": [
    {
     "data": {
      "text/plain": [
       "{'job_id': 'c30b3413-d0cb-4a3b-b28a-a3db23a7abeb'}"
      ]
     },
     "execution_count": 28,
     "metadata": {},
     "output_type": "execute_result"
    }
   ],
   "source": [
    "job_json "
   ]
  },
  {
   "cell_type": "code",
   "execution_count": null,
   "metadata": {},
   "outputs": [
    {
     "data": {
      "text/plain": [
       "['KS4417N61DB04000S10C', 'KS440W865GC4VRBW6LJP', 'KS441TQ5ZT1XSYNT0YY2']"
      ]
     },
     "execution_count": 30,
     "metadata": {},
     "output_type": "execute_result"
    }
   ],
   "source": [
    "job.json()['jobs']['skills']['hard_skills']"
   ]
  },
  {
   "cell_type": "code",
   "execution_count": null,
   "metadata": {},
   "outputs": [],
   "source": [
    "def get_skill_info(skill_id):\n",
    "    skill_json = { \"skill_id\": skill_id }\n",
    "    skill = requests.post('http://localhost:5001/api/get_skill_by_id', json=skill_json)\n",
    "    # skill_type = skill.json()['skill']['field']\n",
    "    skill_name = skill.json()['skill']['name']\n",
    "    return skill_name #, skill_type"
   ]
  },
  {
   "cell_type": "code",
   "execution_count": null,
   "metadata": {},
   "outputs": [],
   "source": [
    "import string\n",
    "job = requests.post('http://localhost:5001/api/get_job_by_id', json=job_json)\n",
    "job_skills_ids = job.json()['jobs']['skills']['hard_skills']\n",
    "skills_response = requests.get('http://localhost:5001/api/get_all_skills')\n",
    "skills_json = skills_response.json()['skills']\n",
    "job_skills = [skill['name'] for skill in skills_json if skill['id'] in job_skills_ids]\n",
    "candidates_response = requests.get('http://localhost:5001/api/get_all_candidates')\n",
    "candidates = candidates_response.json()['candidates']\n",
    "cand_match = {}\n",
    "for candidate in candidates:\n",
    "    cand_skills = candidate['skills']['hard_skills'] \n",
    "    # if cand_skills and any(item in cand_skills for item in job_skills_ids):\n",
    "    cand_skills = {skill['name']:cand_skills[skill['id']] for skill in skills_json if skill['id'] in cand_skills}\n",
    "    cand_id = candidate['id']\n",
    "    if cand_skills:\n",
    "        # cand_skills_parsed = {skill['skill_name']:[skill['skill_level']] for skill in cand_skills}\n",
    "        cand_score = score(job_skills, cand_skills)\n",
    "        if cand_score > 20:\n",
    "            cand_match[cand_id] = cand_score\n",
    "        \n",
    "        # print(cand_score)"
   ]
  },
  {
   "cell_type": "code",
   "execution_count": null,
   "metadata": {},
   "outputs": [
    {
     "data": {
      "text/plain": [
       "{'9f71d56b-743a-47f0-845d-057220111340': 33.3,\n",
       " '202a67ae-bc03-4d96-a586-102efa52e743': 33.3,\n",
       " 'c3b16341-b2a8-46f5-998c-be841a3af5b3': 33.3,\n",
       " 'b24edfb2-4d30-4632-aadf-c36eeb1d56a5': 22.2,\n",
       " '95124ad4-ee14-4ecd-9d80-bf6c6e0866c2': 33.3}"
      ]
     },
     "execution_count": 33,
     "metadata": {},
     "output_type": "execute_result"
    }
   ],
   "source": [
    "cand_match"
   ]
  },
  {
   "cell_type": "code",
   "execution_count": null,
   "metadata": {},
   "outputs": [],
   "source": [
    "update_json = {\n",
    "    'job_id': 'd3ec0c8a-bdc2-40a2-93eb-b5f134812d8f',\n",
    "    'matching_candidates': cand_match\n",
    "}\n",
    "update = requests.put('http://localhost:5001/api/update_job', json=update_json)"
   ]
  },
  {
   "cell_type": "code",
   "execution_count": null,
   "metadata": {},
   "outputs": [
    {
     "name": "stdout",
     "output_type": "stream",
     "text": [
      "{'skill_id': 'BGSE173AB795A8FB06E7'}\n"
     ]
    },
    {
     "data": {
      "text/plain": [
       "('iNEWS (Software)', 'Hard Skill')"
      ]
     },
     "execution_count": 49,
     "metadata": {},
     "output_type": "execute_result"
    }
   ],
   "source": [
    "def get_skill_info(skill_id):\n",
    "    skill_json = { \"skill_id\": skill_id }\n",
    "    print(skill_json)\n",
    "    skill = requests.post('http://localhost:5001/api/get_skill_by_id', json=skill_json)\n",
    "    skill_type = skill.json()['skill']['field']\n",
    "    skill_name = skill.json()['skill']['name']\n",
    "    return skill_name, skill_type\n",
    "\n",
    "\n",
    "get_skill_info('BGSE173AB795A8FB06E7')"
   ]
  },
  {
   "cell_type": "code",
   "execution_count": null,
   "metadata": {},
   "outputs": [],
   "source": []
  },
  {
   "cell_type": "code",
   "execution_count": null,
   "metadata": {},
   "outputs": [
    {
     "ename": "NameError",
     "evalue": "name 'requests' is not defined",
     "output_type": "error",
     "traceback": [
      "\u001b[0;31m---------------------------------------------------------------------------\u001b[0m",
      "\u001b[0;31mNameError\u001b[0m                                 Traceback (most recent call last)",
      "\u001b[1;32m/home/thresh/Projects/deploy-impact-23-shift-4/server/model/test.ipynb Cell 10\u001b[0m line \u001b[0;36m1\n\u001b[0;32m----> <a href='vscode-notebook-cell://wsl%2Bubuntu/home/thresh/Projects/deploy-impact-23-shift-4/server/model/test.ipynb#X12sdnNjb2RlLXJlbW90ZQ%3D%3D?line=0'>1</a>\u001b[0m job \u001b[39m=\u001b[39m requests\u001b[39m.\u001b[39mpost(\u001b[39m'\u001b[39m\u001b[39mhttp://localhost:5001/api/get_job_by_id\u001b[39m\u001b[39m'\u001b[39m, json\u001b[39m=\u001b[39mjob_json)\n\u001b[1;32m      <a href='vscode-notebook-cell://wsl%2Bubuntu/home/thresh/Projects/deploy-impact-23-shift-4/server/model/test.ipynb#X12sdnNjb2RlLXJlbW90ZQ%3D%3D?line=2'>3</a>\u001b[0m job_skills \u001b[39m=\u001b[39m [skill \u001b[39mfor\u001b[39;00m skill \u001b[39min\u001b[39;00m job\u001b[39m.\u001b[39mjson()[\u001b[39m'\u001b[39m\u001b[39mjobs\u001b[39m\u001b[39m'\u001b[39m][\u001b[39m'\u001b[39m\u001b[39mskills\u001b[39m\u001b[39m'\u001b[39m] \u001b[39mif\u001b[39;00m get_skill_type(skill) \u001b[39m==\u001b[39m \u001b[39m'\u001b[39m\u001b[39mHard Skill\u001b[39m\u001b[39m'\u001b[39m]\n\u001b[1;32m      <a href='vscode-notebook-cell://wsl%2Bubuntu/home/thresh/Projects/deploy-impact-23-shift-4/server/model/test.ipynb#X12sdnNjb2RlLXJlbW90ZQ%3D%3D?line=4'>5</a>\u001b[0m job_skills\n",
      "\u001b[0;31mNameError\u001b[0m: name 'requests' is not defined"
     ]
    }
   ],
   "source": [
    "job = requests.post('http://localhost:5001/api/get_job_by_id', json=job_json)\n",
    "\n",
    "job_skills = [skill for skill in job.json()['jobs']['skills'] if get_skill_type(skill) == 'Hard Skill']\n",
    "\n",
    "job_skills"
   ]
  },
  {
   "cell_type": "code",
   "execution_count": null,
   "metadata": {},
   "outputs": [
    {
     "data": {
      "text/plain": [
       "['Linux Virtual Server', 'SQL (Programming Language)', 'TCP/IP']"
      ]
     },
     "execution_count": 51,
     "metadata": {},
     "output_type": "execute_result"
    }
   ],
   "source": [
    "job_skills"
   ]
  },
  {
   "cell_type": "code",
   "execution_count": null,
   "metadata": {},
   "outputs": [
    {
     "name": "stdout",
     "output_type": "stream",
     "text": [
      "{'skill_id': 'KS441TQ5ZT1XSYNT0YY2'}\n"
     ]
    },
    {
     "name": "stdout",
     "output_type": "stream",
     "text": [
      "{'skill_id': 'KS440W865GC4VRBW6LJP'}\n",
      "{'skill_id': 'KS4417N61DB04000S10C'}\n"
     ]
    },
    {
     "data": {
      "text/plain": [
       "['Linux Virtual Server', 'SQL (Programming Language)', 'TCP/IP']"
      ]
     },
     "execution_count": 53,
     "metadata": {},
     "output_type": "execute_result"
    }
   ],
   "source": [
    "def get_hard_skills(skill_ids):\n",
    "    skills = []\n",
    "    for skill in skill_ids:\n",
    "        skill_name, skill_type = get_skill_info(skill)\n",
    "        if skill_type == \"Hard Skill\":\n",
    "            skills.append(skill_name)\n",
    "    return skills\n",
    "\n",
    "get_hard_skills(job_skills)"
   ]
  },
  {
   "cell_type": "code",
   "execution_count": null,
   "metadata": {},
   "outputs": [
    {
     "name": "stdout",
     "output_type": "stream",
     "text": [
      "{'KS1206N5Z0RV0FSPL3T4': [4], 'KS124QR6F19BX4WPMW1H': [4], 'KS125446V6KJC45YF5WD': [1], 'KS1218W78FGVPVP2KXPX': [2]}\n",
      "{'KS1263K75RGKK1ZVWTYX': [1], 'KS122PT6RKPQ5KLM3XYH': [3], 'KS1229V75JRKRC5S980K': [4], 'KS123JY6R6R7KBQYJ2Y5': [4]}\n"
     ]
    }
   ],
   "source": [
    "candidates_response = requests.get('http://localhost:5001/api/get_all_candidates')\n",
    "candidates = candidates_response.json()['candidates']\n",
    "\n",
    "for candidate in candidates[:5]:\n",
    "    cand_skills = candidate['skills'] \n",
    "    cand_id = candidate['id']\n",
    "    if cand_skills:\n",
    "        # print(cand_skills)\n",
    "        cand_skills_parsed = {skill['skill_id']:[skill['skill_level']] for skill in cand_skills}\n",
    "        print(cand_skills_parsed)\n",
    "        # for skill in cand_skills:\n",
    "        #     cand_skills_parsed = get_hard_skills(skill['skill_id'])"
   ]
  },
  {
   "cell_type": "code",
   "execution_count": null,
   "metadata": {},
   "outputs": [],
   "source": [
    "for skill in cand_skills:\n",
    "    get_skill_info()"
   ]
  },
  {
   "cell_type": "code",
   "execution_count": null,
   "metadata": {},
   "outputs": [],
   "source": [
    "cand_match = {}\n",
    "job_json = { 'job_id': 'eb2f09b2-195f-4240-8677-f3b01823d3e0' }\n",
    "\n",
    "job = requests.post('http://localhost:5001/api/get_job_by_id', json=job_json)\n",
    "job_skills_ids = job.json()['jobs']['skills']['hard_skills']\n",
    "skills_response = requests.get('http://localhost:5001/api/get_all_skills')\n",
    "skills_json = skills_response.json()['skills']"
   ]
  },
  {
   "cell_type": "code",
   "execution_count": null,
   "metadata": {},
   "outputs": [
    {
     "data": {
      "text/plain": [
       "['Linux Virtual Server', 'SQL (Programming Language)', 'TCP/IP']"
      ]
     },
     "execution_count": 43,
     "metadata": {},
     "output_type": "execute_result"
    }
   ],
   "source": [
    "job_skills_ids"
   ]
  },
  {
   "cell_type": "code",
   "execution_count": null,
   "metadata": {},
   "outputs": [],
   "source": [
    "job_skills = [skill['name'] for skill in skills_json if skill['id'] in job_skills_ids]\n",
    "candidates_response = requests.get('http://localhost:5001/api/get_all_candidates')\n",
    "candidates = candidates_response.json()['candidates']\n",
    "        "
   ]
  },
  {
   "cell_type": "code",
   "execution_count": null,
   "metadata": {},
   "outputs": [
    {
     "data": {
      "text/plain": [
       "[]"
      ]
     },
     "execution_count": 42,
     "metadata": {},
     "output_type": "execute_result"
    }
   ],
   "source": [
    "job_skills"
   ]
  },
  {
   "cell_type": "code",
   "execution_count": null,
   "metadata": {},
   "outputs": [
    {
     "name": "stdout",
     "output_type": "stream",
     "text": [
      "a\n",
      "a\n"
     ]
    },
    {
     "ename": "ValueError",
     "evalue": "Found array with 0 sample(s) (shape=(0, 47626)) while a minimum of 1 is required by TfidfTransformer.",
     "output_type": "error",
     "traceback": [
      "\u001b[0;31m---------------------------------------------------------------------------\u001b[0m",
      "\u001b[0;31mValueError\u001b[0m                                Traceback (most recent call last)",
      "\u001b[1;32m/home/thresh/Projects/deploy-impact-23-shift-4/server/model/test.ipynb Cell 35\u001b[0m line \u001b[0;36m9\n\u001b[1;32m      <a href='vscode-notebook-cell://wsl%2Bubuntu/home/thresh/Projects/deploy-impact-23-shift-4/server/model/test.ipynb#X46sdnNjb2RlLXJlbW90ZQ%3D%3D?line=5'>6</a>\u001b[0m cand_id \u001b[39m=\u001b[39m candidate[\u001b[39m'\u001b[39m\u001b[39mid\u001b[39m\u001b[39m'\u001b[39m]\n\u001b[1;32m      <a href='vscode-notebook-cell://wsl%2Bubuntu/home/thresh/Projects/deploy-impact-23-shift-4/server/model/test.ipynb#X46sdnNjb2RlLXJlbW90ZQ%3D%3D?line=6'>7</a>\u001b[0m \u001b[39mif\u001b[39;00m cand_skills:\n\u001b[1;32m      <a href='vscode-notebook-cell://wsl%2Bubuntu/home/thresh/Projects/deploy-impact-23-shift-4/server/model/test.ipynb#X46sdnNjb2RlLXJlbW90ZQ%3D%3D?line=7'>8</a>\u001b[0m     \u001b[39m# cand_skills_parsed = {skill['skill_name']:[skill['skill_level']] for skill in cand_skills}\u001b[39;00m\n\u001b[0;32m----> <a href='vscode-notebook-cell://wsl%2Bubuntu/home/thresh/Projects/deploy-impact-23-shift-4/server/model/test.ipynb#X46sdnNjb2RlLXJlbW90ZQ%3D%3D?line=8'>9</a>\u001b[0m     cand_score \u001b[39m=\u001b[39m score(job_skills, cand_skills)\n\u001b[1;32m     <a href='vscode-notebook-cell://wsl%2Bubuntu/home/thresh/Projects/deploy-impact-23-shift-4/server/model/test.ipynb#X46sdnNjb2RlLXJlbW90ZQ%3D%3D?line=9'>10</a>\u001b[0m     \u001b[39mif\u001b[39;00m cand_score \u001b[39m>\u001b[39m \u001b[39m20\u001b[39m:\n\u001b[1;32m     <a href='vscode-notebook-cell://wsl%2Bubuntu/home/thresh/Projects/deploy-impact-23-shift-4/server/model/test.ipynb#X46sdnNjb2RlLXJlbW90ZQ%3D%3D?line=10'>11</a>\u001b[0m         cand_match[cand_id] \u001b[39m=\u001b[39m cand_score\n",
      "\u001b[1;32m/home/thresh/Projects/deploy-impact-23-shift-4/server/model/test.ipynb Cell 35\u001b[0m line \u001b[0;36m3\n\u001b[1;32m      <a href='vscode-notebook-cell://wsl%2Bubuntu/home/thresh/Projects/deploy-impact-23-shift-4/server/model/test.ipynb#X46sdnNjb2RlLXJlbW90ZQ%3D%3D?line=0'>1</a>\u001b[0m \u001b[39mdef\u001b[39;00m \u001b[39mscore\u001b[39m(job_skills, candidate_skills_dict):\n\u001b[1;32m      <a href='vscode-notebook-cell://wsl%2Bubuntu/home/thresh/Projects/deploy-impact-23-shift-4/server/model/test.ipynb#X46sdnNjb2RlLXJlbW90ZQ%3D%3D?line=1'>2</a>\u001b[0m   job_skills \u001b[39m=\u001b[39m [\u001b[39m'\u001b[39m\u001b[39m_\u001b[39m\u001b[39m'\u001b[39m\u001b[39m.\u001b[39mjoin(skill\u001b[39m.\u001b[39mlower()\u001b[39m.\u001b[39msplit(\u001b[39m\"\u001b[39m\u001b[39m \u001b[39m\u001b[39m\"\u001b[39m)) \u001b[39mfor\u001b[39;00m skill \u001b[39min\u001b[39;00m job_skills]\n\u001b[0;32m----> <a href='vscode-notebook-cell://wsl%2Bubuntu/home/thresh/Projects/deploy-impact-23-shift-4/server/model/test.ipynb#X46sdnNjb2RlLXJlbW90ZQ%3D%3D?line=2'>3</a>\u001b[0m   job_skills_vector \u001b[39m=\u001b[39m vectorizer\u001b[39m.\u001b[39;49mtransform(job_skills)\n\u001b[1;32m      <a href='vscode-notebook-cell://wsl%2Bubuntu/home/thresh/Projects/deploy-impact-23-shift-4/server/model/test.ipynb#X46sdnNjb2RlLXJlbW90ZQ%3D%3D?line=3'>4</a>\u001b[0m   candidate_skills, candidate_levels \u001b[39m=\u001b[39m  \u001b[39mzip\u001b[39m(\u001b[39m*\u001b[39mcandidate_skills_dict\u001b[39m.\u001b[39mitems())\n\u001b[1;32m      <a href='vscode-notebook-cell://wsl%2Bubuntu/home/thresh/Projects/deploy-impact-23-shift-4/server/model/test.ipynb#X46sdnNjb2RlLXJlbW90ZQ%3D%3D?line=4'>5</a>\u001b[0m   candidate_levels \u001b[39m=\u001b[39m [[level] \u001b[39mfor\u001b[39;00m level \u001b[39min\u001b[39;00m candidate_levels]\n",
      "File \u001b[0;32m~/.local/share/virtualenvs/deploy-impact-23-shift-4-hsh4Bgsi/lib/python3.10/site-packages/sklearn/feature_extraction/text.py:2164\u001b[0m, in \u001b[0;36mTfidfVectorizer.transform\u001b[0;34m(self, raw_documents)\u001b[0m\n\u001b[1;32m   2161\u001b[0m check_is_fitted(\u001b[39mself\u001b[39m, msg\u001b[39m=\u001b[39m\u001b[39m\"\u001b[39m\u001b[39mThe TF-IDF vectorizer is not fitted\u001b[39m\u001b[39m\"\u001b[39m)\n\u001b[1;32m   2163\u001b[0m X \u001b[39m=\u001b[39m \u001b[39msuper\u001b[39m()\u001b[39m.\u001b[39mtransform(raw_documents)\n\u001b[0;32m-> 2164\u001b[0m \u001b[39mreturn\u001b[39;00m \u001b[39mself\u001b[39;49m\u001b[39m.\u001b[39;49m_tfidf\u001b[39m.\u001b[39;49mtransform(X, copy\u001b[39m=\u001b[39;49m\u001b[39mFalse\u001b[39;49;00m)\n",
      "File \u001b[0;32m~/.local/share/virtualenvs/deploy-impact-23-shift-4-hsh4Bgsi/lib/python3.10/site-packages/sklearn/feature_extraction/text.py:1710\u001b[0m, in \u001b[0;36mTfidfTransformer.transform\u001b[0;34m(self, X, copy)\u001b[0m\n\u001b[1;32m   1693\u001b[0m \u001b[39mdef\u001b[39;00m \u001b[39mtransform\u001b[39m(\u001b[39mself\u001b[39m, X, copy\u001b[39m=\u001b[39m\u001b[39mTrue\u001b[39;00m):\n\u001b[1;32m   1694\u001b[0m \u001b[39m    \u001b[39m\u001b[39m\"\"\"Transform a count matrix to a tf or tf-idf representation.\u001b[39;00m\n\u001b[1;32m   1695\u001b[0m \n\u001b[1;32m   1696\u001b[0m \u001b[39m    Parameters\u001b[39;00m\n\u001b[0;32m   (...)\u001b[0m\n\u001b[1;32m   1708\u001b[0m \u001b[39m        Tf-idf-weighted document-term matrix.\u001b[39;00m\n\u001b[1;32m   1709\u001b[0m \u001b[39m    \"\"\"\u001b[39;00m\n\u001b[0;32m-> 1710\u001b[0m     X \u001b[39m=\u001b[39m \u001b[39mself\u001b[39;49m\u001b[39m.\u001b[39;49m_validate_data(\n\u001b[1;32m   1711\u001b[0m         X, accept_sparse\u001b[39m=\u001b[39;49m\u001b[39m\"\u001b[39;49m\u001b[39mcsr\u001b[39;49m\u001b[39m\"\u001b[39;49m, dtype\u001b[39m=\u001b[39;49mFLOAT_DTYPES, copy\u001b[39m=\u001b[39;49mcopy, reset\u001b[39m=\u001b[39;49m\u001b[39mFalse\u001b[39;49;00m\n\u001b[1;32m   1712\u001b[0m     )\n\u001b[1;32m   1713\u001b[0m     \u001b[39mif\u001b[39;00m \u001b[39mnot\u001b[39;00m sp\u001b[39m.\u001b[39missparse(X):\n\u001b[1;32m   1714\u001b[0m         X \u001b[39m=\u001b[39m sp\u001b[39m.\u001b[39mcsr_matrix(X, dtype\u001b[39m=\u001b[39mnp\u001b[39m.\u001b[39mfloat64)\n",
      "File \u001b[0;32m~/.local/share/virtualenvs/deploy-impact-23-shift-4-hsh4Bgsi/lib/python3.10/site-packages/sklearn/base.py:605\u001b[0m, in \u001b[0;36mBaseEstimator._validate_data\u001b[0;34m(self, X, y, reset, validate_separately, cast_to_ndarray, **check_params)\u001b[0m\n\u001b[1;32m    603\u001b[0m         out \u001b[39m=\u001b[39m X, y\n\u001b[1;32m    604\u001b[0m \u001b[39melif\u001b[39;00m \u001b[39mnot\u001b[39;00m no_val_X \u001b[39mand\u001b[39;00m no_val_y:\n\u001b[0;32m--> 605\u001b[0m     out \u001b[39m=\u001b[39m check_array(X, input_name\u001b[39m=\u001b[39;49m\u001b[39m\"\u001b[39;49m\u001b[39mX\u001b[39;49m\u001b[39m\"\u001b[39;49m, \u001b[39m*\u001b[39;49m\u001b[39m*\u001b[39;49mcheck_params)\n\u001b[1;32m    606\u001b[0m \u001b[39melif\u001b[39;00m no_val_X \u001b[39mand\u001b[39;00m \u001b[39mnot\u001b[39;00m no_val_y:\n\u001b[1;32m    607\u001b[0m     out \u001b[39m=\u001b[39m _check_y(y, \u001b[39m*\u001b[39m\u001b[39m*\u001b[39mcheck_params)\n",
      "File \u001b[0;32m~/.local/share/virtualenvs/deploy-impact-23-shift-4-hsh4Bgsi/lib/python3.10/site-packages/sklearn/utils/validation.py:967\u001b[0m, in \u001b[0;36mcheck_array\u001b[0;34m(array, accept_sparse, accept_large_sparse, dtype, order, copy, force_all_finite, ensure_2d, allow_nd, ensure_min_samples, ensure_min_features, estimator, input_name)\u001b[0m\n\u001b[1;32m    965\u001b[0m     n_samples \u001b[39m=\u001b[39m _num_samples(array)\n\u001b[1;32m    966\u001b[0m     \u001b[39mif\u001b[39;00m n_samples \u001b[39m<\u001b[39m ensure_min_samples:\n\u001b[0;32m--> 967\u001b[0m         \u001b[39mraise\u001b[39;00m \u001b[39mValueError\u001b[39;00m(\n\u001b[1;32m    968\u001b[0m             \u001b[39m\"\u001b[39m\u001b[39mFound array with \u001b[39m\u001b[39m%d\u001b[39;00m\u001b[39m sample(s) (shape=\u001b[39m\u001b[39m%s\u001b[39;00m\u001b[39m) while a\u001b[39m\u001b[39m\"\u001b[39m\n\u001b[1;32m    969\u001b[0m             \u001b[39m\"\u001b[39m\u001b[39m minimum of \u001b[39m\u001b[39m%d\u001b[39;00m\u001b[39m is required\u001b[39m\u001b[39m%s\u001b[39;00m\u001b[39m.\u001b[39m\u001b[39m\"\u001b[39m\n\u001b[1;32m    970\u001b[0m             \u001b[39m%\u001b[39m (n_samples, array\u001b[39m.\u001b[39mshape, ensure_min_samples, context)\n\u001b[1;32m    971\u001b[0m         )\n\u001b[1;32m    973\u001b[0m \u001b[39mif\u001b[39;00m ensure_min_features \u001b[39m>\u001b[39m \u001b[39m0\u001b[39m \u001b[39mand\u001b[39;00m array\u001b[39m.\u001b[39mndim \u001b[39m==\u001b[39m \u001b[39m2\u001b[39m:\n\u001b[1;32m    974\u001b[0m     n_features \u001b[39m=\u001b[39m array\u001b[39m.\u001b[39mshape[\u001b[39m1\u001b[39m]\n",
      "\u001b[0;31mValueError\u001b[0m: Found array with 0 sample(s) (shape=(0, 47626)) while a minimum of 1 is required by TfidfTransformer."
     ]
    }
   ],
   "source": [
    "for candidate in candidates:\n",
    "    print('a')\n",
    "    cand_skills = candidate['skills']['hard_skills'] \n",
    "    # if cand_skills and any(item in cand_skills for item in job_skills_ids):\n",
    "    cand_skills = {skill['name']:cand_skills[skill['id']] for skill in skills_json if skill['id'] in cand_skills}\n",
    "    cand_id = candidate['id']\n",
    "    if cand_skills:\n",
    "        # cand_skills_parsed = {skill['skill_name']:[skill['skill_level']] for skill in cand_skills}\n",
    "        cand_score = score(job_skills, cand_skills)\n",
    "        if cand_score > 20:\n",
    "            cand_match[cand_id] = cand_score"
   ]
  },
  {
   "cell_type": "code",
   "execution_count": null,
   "metadata": {},
   "outputs": [],
   "source": []
  }
 ],
 "metadata": {
  "kernelspec": {
   "display_name": "deploy-impact-23-shift-4-hsh4Bgsi",
   "language": "python",
   "name": "python3"
  },
  "language_info": {
   "codemirror_mode": {
    "name": "ipython",
    "version": 3
   },
   "file_extension": ".py",
   "mimetype": "text/x-python",
   "name": "python",
   "nbconvert_exporter": "python",
   "pygments_lexer": "ipython3",
   "version": "3.11.5"
  },
  "orig_nbformat": 4
 },
 "nbformat": 4,
 "nbformat_minor": 2
}
